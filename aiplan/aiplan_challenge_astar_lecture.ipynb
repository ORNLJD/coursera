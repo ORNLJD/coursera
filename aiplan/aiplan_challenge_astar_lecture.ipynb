{
 "metadata": {
  "name": "",
  "signature": "sha256:ea62a1117f12d4cbdd4834a25f2d0d8f06673eda8c00e53231f6d9a6838b6bf4"
 },
 "nbformat": 3,
 "nbformat_minor": 0,
 "worksheets": [
  {
   "cells": [
    {
     "cell_type": "code",
     "collapsed": false,
     "input": [
      "from graph_plan import *\n",
      "initial = swap(swap(swap(swap(swap(range(9), 0, 1), 1, 2), 2, 5), 5, 4), 4, 7)"
     ],
     "language": "python",
     "metadata": {},
     "outputs": [],
     "prompt_number": 14
    },
    {
     "cell_type": "code",
     "collapsed": false,
     "input": [
      "prob = EightPuzzleProblem(initial=initial, verbosity=0)\n",
      "goal_manhat, explored_manhat = astar_search(prob, heuristic=h_npuzzle_manhattan)"
     ],
     "language": "python",
     "metadata": {},
     "outputs": [],
     "prompt_number": 3
    },
    {
     "cell_type": "code",
     "collapsed": false,
     "input": [
      "prob = EightPuzzleProblem(initial=initial, verbosity=0)\n",
      "goal_simple, explored_simple = astar_search(prob, heuristic=h_npuzzle_simple)\n"
     ],
     "language": "python",
     "metadata": {},
     "outputs": [],
     "prompt_number": 15
    },
    {
     "cell_type": "code",
     "collapsed": false,
     "input": [
      "print('Solution depth for simple distance heuristic: {0}'.format(\n",
      "      len(goal_simple.path()) - 1))"
     ],
     "language": "python",
     "metadata": {},
     "outputs": [
      {
       "output_type": "stream",
       "stream": "stdout",
       "text": [
        "Solution depth for simple distance heuristic: 5\n"
       ]
      }
     ],
     "prompt_number": 16
    },
    {
     "cell_type": "code",
     "collapsed": false,
     "input": [
      "print('Search steps using simple distance heuristic: {0}'.format(\n",
      "      len(explored_simple)))"
     ],
     "language": "python",
     "metadata": {},
     "outputs": [
      {
       "output_type": "stream",
       "stream": "stdout",
       "text": [
        "Search steps using simple distance heuristic: 26\n"
       ]
      }
     ],
     "prompt_number": 18
    },
    {
     "cell_type": "code",
     "collapsed": false,
     "input": [
      "print('Solution depth for Manhattan distance heuristic: {0}'.format(\n",
      "      len(goal_manhat.path()) - 1))"
     ],
     "language": "python",
     "metadata": {},
     "outputs": [
      {
       "output_type": "stream",
       "stream": "stdout",
       "text": [
        "Solution depth for Manhattan distance heuristic: 5\n"
       ]
      }
     ],
     "prompt_number": 19
    },
    {
     "cell_type": "code",
     "collapsed": false,
     "input": [
      "print('Search steps using Manhattan distance heuristic: {0}'.format(\n",
      "      len(explored_manhat)))"
     ],
     "language": "python",
     "metadata": {},
     "outputs": [
      {
       "output_type": "stream",
       "stream": "stdout",
       "text": [
        "Search steps using Manhattan distance heuristic: 5\n"
       ]
      }
     ],
     "prompt_number": 20
    },
    {
     "cell_type": "code",
     "collapsed": false,
     "input": [],
     "language": "python",
     "metadata": {},
     "outputs": []
    }
   ],
   "metadata": {}
  }
 ]
}