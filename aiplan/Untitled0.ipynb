{
 "metadata": {
  "name": "",
  "signature": "sha256:7023d8e2b0a66661befac6879f61da05ac3ab1d7dcea828ea753bf8d2e041d4b"
 },
 "nbformat": 3,
 "nbformat_minor": 0,
 "worksheets": []
}