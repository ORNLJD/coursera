{
 "metadata": {
  "name": "",
  "signature": "sha256:dc6ad8a733f2693609f9019519e9acebc2e3f09e58cf8384aa0433c3525ec7c6"
 },
 "nbformat": 3,
 "nbformat_minor": 0,
 "worksheets": [
  {
   "cells": [
    {
     "cell_type": "code",
     "collapsed": false,
     "input": [
      "import pybrain\n",
      "import pybrain.datasets\n",
      "import pybrain.supervised\n",
      "pb = pybrain\n",
      "\n",
      "from pug.data.weather import fresno as df\n",
      "from pug.ann import util"
     ],
     "language": "python",
     "metadata": {},
     "outputs": [],
     "prompt_number": 19
    },
    {
     "cell_type": "code",
     "collapsed": false,
     "input": [
      "print(df.describe())\n"
     ],
     "language": "python",
     "metadata": {},
     "outputs": [
      {
       "output_type": "stream",
       "stream": "stdout",
       "text": [
        "       Max TemperatureF  Mean TemperatureF  Min TemperatureF  Max Dew PointF  \\\n",
        "count       1461.000000        1461.000000       1461.000000     1461.000000   \n",
        "mean          79.261465          66.875428         54.007529       49.403149   \n",
        "std           16.350864          14.010400         12.265078        7.492898   \n",
        "min           40.000000          38.000000         27.000000       25.000000   \n",
        "25%           65.000000          55.000000         45.000000       45.000000   \n",
        "50%           79.000000          66.000000         53.000000       50.000000   \n",
        "75%           95.000000          80.000000         65.000000       55.000000   \n",
        "max          111.000000          95.000000         82.000000       67.000000   \n",
        "\n",
        "       MeanDew PointF  Min DewpointF  Max Humidity   Mean Humidity  \\\n",
        "count     1461.000000    1461.000000   1461.000000     1461.000000   \n",
        "mean        44.780972      38.498973     74.214921       52.416153   \n",
        "std          7.452126       8.439846     15.742676       15.397896   \n",
        "min         18.000000       4.000000     28.000000       19.000000   \n",
        "25%         40.000000      33.000000     61.000000       40.000000   \n",
        "50%         45.000000      39.000000     76.000000       50.000000   \n",
        "75%         51.000000      45.000000     87.000000       64.000000   \n",
        "max         63.000000      58.000000    100.000000       95.000000   \n",
        "\n",
        "        Min Humidity   Max Sea Level PressureIn   Mean Sea Level PressureIn  \\\n",
        "count    1461.000000                1461.000000                 1461.000000   \n",
        "mean       30.114305                  30.056324                   29.991485   \n",
        "std        16.621242                   0.163034                    0.160462   \n",
        "min         4.000000                  29.670000                   29.550000   \n",
        "25%        17.000000                  29.930000                   29.870000   \n",
        "50%        26.000000                  30.040000                   29.970000   \n",
        "75%        40.000000                  30.170000                   30.110000   \n",
        "max        89.000000                  30.600000                   30.540000   \n",
        "\n",
        "        Min Sea Level PressureIn   Max VisibilityMiles   Mean VisibilityMiles  \\\n",
        "count                1461.000000           1461.000000            1461.000000   \n",
        "mean                   29.925079              9.595483               8.713210   \n",
        "std                     0.162644              1.286902               2.210008   \n",
        "min                    29.470000              2.000000               1.000000   \n",
        "25%                    29.800000             10.000000               8.000000   \n",
        "50%                    29.900000             10.000000              10.000000   \n",
        "75%                    30.040000             10.000000              10.000000   \n",
        "max                    30.500000             10.000000              10.000000   \n",
        "\n",
        "        Min VisibilityMiles   Max Wind SpeedMPH   Mean Wind SpeedMPH  \\\n",
        "count           1461.000000         1461.000000          1461.000000   \n",
        "mean               7.028747           13.415469             5.285421   \n",
        "std                3.296614            4.982216             3.117557   \n",
        "min                0.000000            4.000000             0.000000   \n",
        "25%                4.000000            9.000000             3.000000   \n",
        "50%                8.000000           13.000000             5.000000   \n",
        "75%               10.000000           16.000000             7.000000   \n",
        "max               10.000000           33.000000            17.000000   \n",
        "\n",
        "        Max Gust SpeedMPH   CloudCover  \n",
        "count         1322.000000  1461.000000  \n",
        "mean            18.450832     2.850787  \n",
        "std              6.152202     2.395411  \n",
        "min              6.000000     0.000000  \n",
        "25%             14.000000     1.000000  \n",
        "50%             18.000000     2.000000  \n",
        "75%             22.000000     5.000000  \n",
        "max             45.000000     8.000000  \n"
       ]
      }
     ],
     "prompt_number": 9
    },
    {
     "cell_type": "markdown",
     "metadata": {},
     "source": [
      "ds = util.pybrain_dataset_from_dataframe(df)"
     ]
    },
    {
     "cell_type": "code",
     "collapsed": false,
     "input": [
      "ds = util.pybrain_dataset_from_dataframe(df)\n",
      "print(ds)"
     ],
     "language": "python",
     "metadata": {},
     "outputs": [
      {
       "output_type": "stream",
       "stream": "stdout",
       "text": [
        "input: dim(2046, 3)\n",
        "[[ 1.19325827 -0.20421695 -1.60169216]\n",
        " [ 1.63790947  1.19325827  0.74860706]\n",
        " [ 1.63790947  0.17691266 -1.28408415]\n",
        " ..., \n",
        " [ 0.93917186 -0.14069535 -1.28408415]\n",
        " [ 1.38382307  0.74860706  0.11339106]\n",
        " [ 1.63790947  0.30395586 -1.02999775]]\n",
        "\n",
        "target: dim(2046, 1)\n",
        "[[ 50.]\n",
        " [ 51.]\n",
        " [ 55.]\n",
        " ..., \n",
        " [ 54.]\n",
        " [ 44.]\n",
        " [ 46.]]\n",
        "\n",
        "\n"
       ]
      }
     ],
     "prompt_number": 20
    },
    {
     "cell_type": "code",
     "collapsed": false,
     "input": [
      "nn = util.build_neural_net()\n",
      "print(nn)\n"
     ],
     "language": "python",
     "metadata": {},
     "outputs": [
      {
       "output_type": "stream",
       "stream": "stdout",
       "text": [
        "FeedForwardNetwork-7\n",
        "   Modules:\n",
        "    [<LinearLayer 'input'>, <LinearLayer 'output'>]\n",
        "   Connections:\n",
        "    [<FullConnection 'FullConnection-6': 'input' -> 'output'>]\n",
        "\n"
       ]
      }
     ],
     "prompt_number": 21
    },
    {
     "cell_type": "code",
     "collapsed": false,
     "input": [
      "trainer = pb.supervised.trainers.rprop.RPropMinusTrainer(nn, dataset=ds, batchlearning=True, verbose=True)\n",
      "trainer.trainUntilConvergence(maxEpochs=200)\n"
     ],
     "language": "python",
     "metadata": {},
     "outputs": [
      {
       "output_type": "stream",
       "stream": "stdout",
       "text": [
        "epoch      0  total error       3595.5   avg weight        1.3304\n",
        "epoch      1  total error       3556.1   avg weight        1.2403"
       ]
      },
      {
       "output_type": "stream",
       "stream": "stdout",
       "text": [
        "\n",
        "epoch      2  total error       3516.9   avg weight        1.1519"
       ]
      },
      {
       "output_type": "stream",
       "stream": "stdout",
       "text": [
        "\n",
        "epoch      3  total error       3470.2   avg weight        1.0486"
       ]
      },
      {
       "output_type": "stream",
       "stream": "stdout",
       "text": [
        "\n",
        "epoch      4  total error       3414.7   avg weight       0.92984"
       ]
      },
      {
       "output_type": "stream",
       "stream": "stdout",
       "text": [
        "\n",
        "epoch      5  total error       3348.8   avg weight       0.79842"
       ]
      },
      {
       "output_type": "stream",
       "stream": "stdout",
       "text": [
        "\n",
        "epoch      6  total error       3270.8   avg weight       0.66616"
       ]
      },
      {
       "output_type": "stream",
       "stream": "stdout",
       "text": [
        "\n",
        "epoch      7  total error       3178.6   avg weight       0.56993"
       ]
      },
      {
       "output_type": "stream",
       "stream": "stdout",
       "text": [
        "\n",
        "epoch      8  total error       3070.1   avg weight       0.58784"
       ]
      },
      {
       "output_type": "stream",
       "stream": "stdout",
       "text": [
        "\n",
        "epoch      9  total error         2943   avg weight       0.77834"
       ]
      },
      {
       "output_type": "stream",
       "stream": "stdout",
       "text": [
        "\n",
        "epoch     10  total error       2794.9   avg weight        1.1212"
       ]
      },
      {
       "output_type": "stream",
       "stream": "stdout",
       "text": [
        "\n",
        "epoch     11  total error       2623.5   avg weight        1.5896"
       ]
      },
      {
       "output_type": "stream",
       "stream": "stdout",
       "text": [
        "\n",
        "epoch     12  total error       2426.9   avg weight        2.1802"
       ]
      },
      {
       "output_type": "stream",
       "stream": "stdout",
       "text": [
        "\n",
        "epoch     13  total error       2204.2   avg weight        2.9046"
       ]
      },
      {
       "output_type": "stream",
       "stream": "stdout",
       "text": [
        "\n",
        "epoch     14  total error       1955.9   avg weight        3.7835"
       ]
      },
      {
       "output_type": "stream",
       "stream": "stdout",
       "text": [
        "\n",
        "epoch     15  total error       1685.3   avg weight        4.8443"
       ]
      },
      {
       "output_type": "stream",
       "stream": "stdout",
       "text": [
        "\n",
        "epoch     16  total error       1399.8   avg weight        6.1214"
       ]
      },
      {
       "output_type": "stream",
       "stream": "stdout",
       "text": [
        "\n",
        "epoch     17  total error       1094.7   avg weight        6.9058"
       ]
      },
      {
       "output_type": "stream",
       "stream": "stdout",
       "text": [
        "\n",
        "epoch     18  total error       795.01   avg weight        8.2461"
       ]
      },
      {
       "output_type": "stream",
       "stream": "stdout",
       "text": [
        "\n",
        "epoch     19  total error       527.84   avg weight        9.9563"
       ]
      },
      {
       "output_type": "stream",
       "stream": "stdout",
       "text": [
        "\n",
        "epoch     20  total error       339.41   avg weight        12.069"
       ]
      },
      {
       "output_type": "stream",
       "stream": "stdout",
       "text": [
        "\n",
        "epoch     21  total error       303.61   avg weight        14.654"
       ]
      },
      {
       "output_type": "stream",
       "stream": "stdout",
       "text": [
        "\n",
        "epoch     22  total error       339.76   avg weight        11.542"
       ]
      },
      {
       "output_type": "stream",
       "stream": "stdout",
       "text": [
        "\n",
        "epoch     23  total error       249.17   avg weight        13.182"
       ]
      },
      {
       "output_type": "stream",
       "stream": "stdout",
       "text": [
        "\n",
        "epoch     24  total error        224.6   avg weight        14.896"
       ]
      },
      {
       "output_type": "stream",
       "stream": "stdout",
       "text": [
        "\n",
        "epoch     25  total error       217.35   avg weight        13.388"
       ]
      },
      {
       "output_type": "stream",
       "stream": "stdout",
       "text": [
        "\n",
        "epoch     26  total error        169.6   avg weight        14.813"
       ]
      },
      {
       "output_type": "stream",
       "stream": "stdout",
       "text": [
        "\n",
        "epoch     27  total error       143.37   avg weight        16.466"
       ]
      },
      {
       "output_type": "stream",
       "stream": "stdout",
       "text": [
        "\n",
        "epoch     28  total error        153.6   avg weight        16.707"
       ]
      },
      {
       "output_type": "stream",
       "stream": "stdout",
       "text": [
        "\n",
        "epoch     29  total error       149.24   avg weight        15.756"
       ]
      },
      {
       "output_type": "stream",
       "stream": "stdout",
       "text": [
        "\n",
        "epoch     30  total error       135.87   avg weight        16.905"
       ]
      },
      {
       "output_type": "stream",
       "stream": "stdout",
       "text": [
        "\n",
        "epoch     31  total error       128.39   avg weight        17.649"
       ]
      },
      {
       "output_type": "stream",
       "stream": "stdout",
       "text": [
        "\n",
        "epoch     32  total error        136.9   avg weight         18.16"
       ]
      },
      {
       "output_type": "stream",
       "stream": "stdout",
       "text": [
        "\n",
        "epoch     33  total error       129.77   avg weight         17.29"
       ]
      },
      {
       "output_type": "stream",
       "stream": "stdout",
       "text": [
        "\n",
        "epoch     34  total error       127.45   avg weight         18.09"
       ]
      },
      {
       "output_type": "stream",
       "stream": "stdout",
       "text": [
        "\n",
        "epoch     35  total error       130.69   avg weight        18.418"
       ]
      },
      {
       "output_type": "stream",
       "stream": "stdout",
       "text": [
        "\n",
        "epoch     36  total error       127.75   avg weight        17.839"
       ]
      },
      {
       "output_type": "stream",
       "stream": "stdout",
       "text": [
        "\n",
        "epoch     37  total error       127.32   avg weight        18.322"
       ]
      },
      {
       "output_type": "stream",
       "stream": "stdout",
       "text": [
        "\n",
        "epoch     38  total error       127.89   avg weight        17.811"
       ]
      },
      {
       "output_type": "stream",
       "stream": "stdout",
       "text": [
        "\n",
        "epoch     39  total error       127.38   avg weight        18.066"
       ]
      },
      {
       "output_type": "stream",
       "stream": "stdout",
       "text": [
        "\n",
        "epoch     40  total error       127.32   avg weight        18.322"
       ]
      },
      {
       "output_type": "stream",
       "stream": "stdout",
       "text": [
        "\n",
        "epoch     41  total error       127.45   avg weight        18.015"
       ]
      },
      {
       "output_type": "stream",
       "stream": "stdout",
       "text": [
        "\n",
        "epoch     42  total error        127.3   avg weight        18.168"
       ]
      },
      {
       "output_type": "stream",
       "stream": "stdout",
       "text": [
        "\n",
        "epoch     43  total error       127.32   avg weight        18.322"
       ]
      },
      {
       "output_type": "stream",
       "stream": "stdout",
       "text": [
        "\n",
        "epoch     44  total error       127.32   avg weight        18.137"
       ]
      },
      {
       "output_type": "stream",
       "stream": "stdout",
       "text": [
        "\n",
        "epoch     45  total error       127.29   avg weight         18.23"
       ]
      },
      {
       "output_type": "stream",
       "stream": "stdout",
       "text": [
        "\n",
        "epoch     46  total error       127.33   avg weight        18.196"
       ]
      },
      {
       "output_type": "stream",
       "stream": "stdout",
       "text": [
        "\n",
        "epoch     47  total error       127.29   avg weight        18.192"
       ]
      },
      {
       "output_type": "stream",
       "stream": "stdout",
       "text": [
        "\n",
        "epoch     48  total error       127.29   avg weight        18.241"
       ]
      },
      {
       "output_type": "stream",
       "stream": "stdout",
       "text": [
        "\n",
        "epoch     49  total error       127.29   avg weight        18.186"
       ]
      },
      {
       "output_type": "stream",
       "stream": "stdout",
       "text": [
        "\n",
        "epoch     50  total error       127.29   avg weight        18.214"
       ]
      },
      {
       "output_type": "stream",
       "stream": "stdout",
       "text": [
        "\n",
        "epoch     51  total error       127.29   avg weight        18.224"
       ]
      },
      {
       "output_type": "stream",
       "stream": "stdout",
       "text": [
        "\n",
        "epoch     52  total error       127.29   avg weight        18.206"
       ]
      },
      {
       "output_type": "stream",
       "stream": "stdout",
       "text": [
        "\n",
        "epoch     53  total error       127.29   avg weight        18.219"
       ]
      },
      {
       "output_type": "stream",
       "stream": "stdout",
       "text": [
        "\n",
        "epoch     54  total error       127.29   avg weight        18.211"
       ]
      },
      {
       "output_type": "stream",
       "stream": "stdout",
       "text": [
        "\n",
        "epoch     55  total error       127.29   avg weight        18.212"
       ]
      },
      {
       "output_type": "stream",
       "stream": "stdout",
       "text": [
        "\n",
        "epoch     56  total error       127.29   avg weight        18.208"
       ]
      },
      {
       "output_type": "stream",
       "stream": "stdout",
       "text": [
        "\n",
        "epoch     57  total error       127.29   avg weight        18.207"
       ]
      },
      {
       "output_type": "stream",
       "stream": "stdout",
       "text": [
        "\n",
        "epoch     58  total error       127.29   avg weight        18.211"
       ]
      },
      {
       "output_type": "stream",
       "stream": "stdout",
       "text": [
        "\n",
        "epoch     59  total error       127.29   avg weight        18.207"
       ]
      },
      {
       "output_type": "stream",
       "stream": "stdout",
       "text": [
        "\n",
        "epoch     60  total error       127.29   avg weight        18.209"
       ]
      },
      {
       "output_type": "stream",
       "stream": "stdout",
       "text": [
        "\n",
        "epoch     61  total error       127.29   avg weight        18.208"
       ]
      },
      {
       "output_type": "stream",
       "stream": "stdout",
       "text": [
        "\n",
        "epoch     62  total error       127.29   avg weight        18.209"
       ]
      },
      {
       "output_type": "stream",
       "stream": "stdout",
       "text": [
        "\n",
        "epoch     63  total error       127.29   avg weight        18.205"
       ]
      },
      {
       "output_type": "stream",
       "stream": "stdout",
       "text": [
        "\n",
        "epoch     64  total error       127.29   avg weight        18.208"
       ]
      },
      {
       "output_type": "stream",
       "stream": "stdout",
       "text": [
        "\n",
        "epoch     65  total error       127.29   avg weight        18.207"
       ]
      },
      {
       "output_type": "stream",
       "stream": "stdout",
       "text": [
        "\n",
        "epoch     66  total error       127.29   avg weight        18.205"
       ]
      },
      {
       "output_type": "stream",
       "stream": "stdout",
       "text": [
        "\n",
        "epoch     67  total error       127.29   avg weight        18.204"
       ]
      },
      {
       "output_type": "stream",
       "stream": "stdout",
       "text": [
        "\n",
        "epoch     68  total error       127.29   avg weight        18.202"
       ]
      },
      {
       "output_type": "stream",
       "stream": "stdout",
       "text": [
        "\n",
        "epoch     69  total error       127.29   avg weight        18.205"
       ]
      },
      {
       "output_type": "stream",
       "stream": "stdout",
       "text": [
        "\n",
        "epoch     70  total error       127.29   avg weight        18.205"
       ]
      },
      {
       "output_type": "stream",
       "stream": "stdout",
       "text": [
        "\n",
        "epoch     71  total error       127.29   avg weight        18.204"
       ]
      },
      {
       "output_type": "stream",
       "stream": "stdout",
       "text": [
        "\n",
        "epoch     72  total error       127.29   avg weight        18.201"
       ]
      },
      {
       "output_type": "stream",
       "stream": "stdout",
       "text": [
        "\n",
        "epoch     73  total error       127.29   avg weight        18.199"
       ]
      },
      {
       "output_type": "stream",
       "stream": "stdout",
       "text": [
        "\n",
        "epoch     74  total error       127.29   avg weight        18.197"
       ]
      },
      {
       "output_type": "stream",
       "stream": "stdout",
       "text": [
        "\n",
        "epoch     75  total error       127.29   avg weight        18.195"
       ]
      },
      {
       "output_type": "stream",
       "stream": "stdout",
       "text": [
        "\n",
        "epoch     76  total error       127.29   avg weight        18.198"
       ]
      },
      {
       "output_type": "stream",
       "stream": "stdout",
       "text": [
        "\n",
        "epoch     77  total error       127.29   avg weight        18.194"
       ]
      },
      {
       "output_type": "stream",
       "stream": "stdout",
       "text": [
        "\n",
        "epoch     78  total error       127.29   avg weight        18.191"
       ]
      },
      {
       "output_type": "stream",
       "stream": "stdout",
       "text": [
        "\n",
        "epoch     79  total error       127.29   avg weight        18.188"
       ]
      },
      {
       "output_type": "stream",
       "stream": "stdout",
       "text": [
        "\n",
        "epoch     80  total error       127.29   avg weight        18.189"
       ]
      },
      {
       "output_type": "stream",
       "stream": "stdout",
       "text": [
        "\n",
        "epoch     81  total error       127.29   avg weight        18.192"
       ]
      },
      {
       "output_type": "stream",
       "stream": "stdout",
       "text": [
        "\n",
        "epoch     82  total error       127.29   avg weight        18.193"
       ]
      },
      {
       "output_type": "stream",
       "stream": "stdout",
       "text": [
        "\n",
        "epoch     83  total error       127.29   avg weight        18.189"
       ]
      },
      {
       "output_type": "stream",
       "stream": "stdout",
       "text": [
        "\n",
        "epoch     84  total error       127.29   avg weight        18.188"
       ]
      },
      {
       "output_type": "stream",
       "stream": "stdout",
       "text": [
        "\n",
        "epoch     85  total error       127.29   avg weight        18.186"
       ]
      },
      {
       "output_type": "stream",
       "stream": "stdout",
       "text": [
        "\n",
        "epoch     86  total error       127.29   avg weight        18.184"
       ]
      },
      {
       "output_type": "stream",
       "stream": "stdout",
       "text": [
        "\n",
        "epoch     87  total error       127.29   avg weight        18.187"
       ]
      },
      {
       "output_type": "stream",
       "stream": "stdout",
       "text": [
        "\n",
        "epoch     88  total error       127.29   avg weight        18.188"
       ]
      },
      {
       "output_type": "stream",
       "stream": "stdout",
       "text": [
        "\n",
        "epoch     89  total error       127.29   avg weight        18.184"
       ]
      },
      {
       "output_type": "stream",
       "stream": "stdout",
       "text": [
        "\n",
        "epoch     90  total error       127.29   avg weight        18.183"
       ]
      },
      {
       "output_type": "stream",
       "stream": "stdout",
       "text": [
        "\n",
        "epoch     91  total error       127.29   avg weight        18.181"
       ]
      },
      {
       "output_type": "stream",
       "stream": "stdout",
       "text": [
        "\n",
        "epoch     92  total error       127.29   avg weight        18.183"
       ]
      },
      {
       "output_type": "stream",
       "stream": "stdout",
       "text": [
        "\n",
        "epoch     93  total error       127.29   avg weight        18.182"
       ]
      },
      {
       "output_type": "stream",
       "stream": "stdout",
       "text": [
        "\n",
        "epoch     94  total error       127.29   avg weight        18.181"
       ]
      },
      {
       "output_type": "stream",
       "stream": "stdout",
       "text": [
        "\n",
        "epoch     95  total error       127.29   avg weight         18.18"
       ]
      },
      {
       "output_type": "stream",
       "stream": "stdout",
       "text": [
        "\n",
        "epoch     96  total error       127.29   avg weight        18.178"
       ]
      },
      {
       "output_type": "stream",
       "stream": "stdout",
       "text": [
        "\n",
        "epoch     97  total error       127.28   avg weight        18.176"
       ]
      },
      {
       "output_type": "stream",
       "stream": "stdout",
       "text": [
        "\n",
        "epoch     98  total error       127.28   avg weight        18.179"
       ]
      },
      {
       "output_type": "stream",
       "stream": "stdout",
       "text": [
        "\n",
        "epoch     99  total error       127.28   avg weight        18.178"
       ]
      },
      {
       "output_type": "stream",
       "stream": "stdout",
       "text": [
        "\n",
        "epoch    100  total error       127.28   avg weight        18.176"
       ]
      },
      {
       "output_type": "stream",
       "stream": "stdout",
       "text": [
        "\n",
        "train-errors:"
       ]
      },
      {
       "output_type": "stream",
       "stream": "stdout",
       "text": [
        " [  3595.500176  3556.068286  3516.896503  3470.233703  3414.732754  3348.843564  3270.801746  3178.627864  3070.145078  2943.026991  2794.893496  2623.481123  2426.927138  2204.225198  1955.937362  1685.286428  1399.809343  1094.725439  795.007103  527.838292  339.405976  303.612369  339.759074  249.169049  224.595746  217.346731  169.601921  143.371892  153.597100  149.240066  135.865386  128.385438  136.898131  129.768484  127.448964  130.693137  127.747195  127.321534  127.893342  127.380990  127.321534  127.447229  127.302860  127.321534  127.318691  127.290765  127.331775  127.291756  127.291964  127.292478  127.289580  127.293305  127.289979  127.289354  127.289795  127.289319  127.289218  127.289312  127.289077  127.288852  127.288613  127.288391  127.288180  127.288325  127.288219  127.288061  127.288087  127.287943  127.287810  127.287775  127.287636  127.287518  127.287458  127.287292  127.287122  127.286933  127.286962  127.286915  127.286757  127.286595  127.286469  127.286475  127.286329  127.286326  127.286178  127.286027  127.285858  127.285851  127.285707  127.285709  127.285557  127.285405  127.285413  127.285285  127.285280  127.285144  127.285006  127.284849  127.284856  127.284724  127.284718  127.893342]\n",
        "valid-errors: [  3578.900673  3539.165906  3499.695867  3452.681261  3396.766927  3330.394326  3251.790627  3158.968718  3049.746070  2921.794536  2772.739223  2600.333449  2402.749784  2179.046088  1929.892902  1658.688479  1373.245507  1069.548584  772.611436  510.604371  331.017269  309.655526  328.929962  245.834905  230.146955  212.139419  169.137575  148.007325  151.475092  150.651315  140.317521  133.833778  138.222488  133.688480  133.104290  133.891624  132.307801  132.888540  132.228890  132.329917  132.888540  132.273104  132.498454  132.888540  132.440205  132.634720  132.946544  132.598265  132.734576  132.601349  132.665294  132.587995  132.630135  132.650868  132.690309  132.639775  132.660937  132.633340  132.638401  132.644836  132.650415  132.658582  132.667353  132.631605  132.658212  132.662605  132.641095  132.639267  132.635694  132.656841  132.660607  132.666440  132.644448  132.642676  132.639126  132.634880  132.661534  132.641549  132.640392  132.637774  132.632992  132.656071  132.659546  132.639933  132.638346  132.635168  132.631366  132.655206  132.658817  132.638488  132.636845  132.633553  132.654166  132.658048  132.639826  132.638439  132.635588  132.632177  132.653547  132.657573  132.638678  132.637241]\n"
       ]
      },
      {
       "metadata": {},
       "output_type": "pyout",
       "prompt_number": 24,
       "text": [
        "([3595.5001760531554,\n",
        "  3556.0682864184382,\n",
        "  3516.8965030493546,\n",
        "  3470.2337032770961,\n",
        "  3414.7327535400855,\n",
        "  3348.8435642408476,\n",
        "  3270.8017456364264,\n",
        "  3178.6278636298271,\n",
        "  3070.1450776808515,\n",
        "  2943.0269908829505,\n",
        "  2794.8934958563409,\n",
        "  2623.4811229728325,\n",
        "  2426.9271379663915,\n",
        "  2204.2251978920563,\n",
        "  1955.9373621869581,\n",
        "  1685.2864283739436,\n",
        "  1399.8093432059961,\n",
        "  1094.725438617859,\n",
        "  795.00710348327652,\n",
        "  527.8382921060313,\n",
        "  339.40597646002095,\n",
        "  303.61236921443373,\n",
        "  339.75907419670222,\n",
        "  249.16904881976046,\n",
        "  224.59574622846964,\n",
        "  217.34673106959858,\n",
        "  169.60192140757735,\n",
        "  143.3718915034421,\n",
        "  153.59710024516272,\n",
        "  149.2400656693311,\n",
        "  135.8653855159009,\n",
        "  128.38543783840302,\n",
        "  136.89813084847444,\n",
        "  129.76848360340904,\n",
        "  127.44896418160948,\n",
        "  130.69313747705178,\n",
        "  127.74719465190992,\n",
        "  127.3215338509176,\n",
        "  127.89334241452397,\n",
        "  127.38099037999712,\n",
        "  127.32153385091763,\n",
        "  127.44722914646675,\n",
        "  127.30286030771161,\n",
        "  127.32153385091766,\n",
        "  127.3186906849058,\n",
        "  127.29076463915889,\n",
        "  127.3317754848164,\n",
        "  127.29175644130143,\n",
        "  127.29196442666171,\n",
        "  127.29247808211072,\n",
        "  127.28957996779846,\n",
        "  127.29330500934023,\n",
        "  127.28997872430264,\n",
        "  127.28935393367179,\n",
        "  127.28979485656258,\n",
        "  127.28931904278943,\n",
        "  127.28921847204145,\n",
        "  127.2893115853774,\n",
        "  127.28907700593267,\n",
        "  127.28885195546118,\n",
        "  127.28861299617863,\n",
        "  127.2883911030185,\n",
        "  127.28818035221335,\n",
        "  127.28832475234195,\n",
        "  127.2882187868599,\n",
        "  127.28806088792813,\n",
        "  127.28808689208753,\n",
        "  127.28794252410025,\n",
        "  127.28780967682216,\n",
        "  127.28777473421205,\n",
        "  127.287635915856,\n",
        "  127.28751752401195,\n",
        "  127.2874575347473,\n",
        "  127.28729179198072,\n",
        "  127.28712206434453,\n",
        "  127.28693259899288,\n",
        "  127.28696190696303,\n",
        "  127.28691469262893,\n",
        "  127.28675732795044,\n",
        "  127.28659509933128,\n",
        "  127.28646910032441,\n",
        "  127.28647537598744,\n",
        "  127.28632928586154,\n",
        "  127.28632583407045,\n",
        "  127.28617763119621,\n",
        "  127.28602727355624,\n",
        "  127.28585824543322,\n",
        "  127.28585062187707,\n",
        "  127.28570683780057,\n",
        "  127.28570904212167,\n",
        "  127.28555746657661,\n",
        "  127.28540511249557,\n",
        "  127.28541318696044,\n",
        "  127.28528457419462,\n",
        "  127.28528041703106,\n",
        "  127.28514417908394,\n",
        "  127.2850060735199,\n",
        "  127.28484949560051,\n",
        "  127.284855663039,\n",
        "  127.28472387057752,\n",
        "  127.2847177802909,\n",
        "  127.89334241452397],\n",
        " [3578.9006726364983,\n",
        "  3539.1659061862697,\n",
        "  3499.695867212748,\n",
        "  3452.6812607137763,\n",
        "  3396.766926902756,\n",
        "  3330.3943256718549,\n",
        "  3251.7906272477412,\n",
        "  3158.9687183350743,\n",
        "  3049.746069682496,\n",
        "  2921.7945358407833,\n",
        "  2772.7392233703154,\n",
        "  2600.33344892676,\n",
        "  2402.7497843447359,\n",
        "  2179.0460880866676,\n",
        "  1929.8929023630967,\n",
        "  1658.6884791868131,\n",
        "  1373.2455069317564,\n",
        "  1069.5485841193786,\n",
        "  772.61143579270708,\n",
        "  510.60437101794361,\n",
        "  331.01726850941515,\n",
        "  309.65552581769299,\n",
        "  328.9299618285342,\n",
        "  245.83490536986099,\n",
        "  230.14695462214087,\n",
        "  212.13941948211928,\n",
        "  169.13757462067571,\n",
        "  148.00732478407519,\n",
        "  151.47509166439031,\n",
        "  150.65131453823179,\n",
        "  140.31752062778071,\n",
        "  133.83377760088464,\n",
        "  138.2224877122631,\n",
        "  133.68848032862235,\n",
        "  133.10428995776937,\n",
        "  133.89162355083897,\n",
        "  132.30780140136747,\n",
        "  132.88854001277497,\n",
        "  132.22889039348456,\n",
        "  132.32991661082798,\n",
        "  132.88854001277497,\n",
        "  132.27310359259087,\n",
        "  132.49845430945436,\n",
        "  132.88854001277497,\n",
        "  132.44020536716516,\n",
        "  132.63472039240762,\n",
        "  132.94654379097017,\n",
        "  132.59826509066906,\n",
        "  132.73457613247066,\n",
        "  132.60134920076695,\n",
        "  132.66529395983821,\n",
        "  132.58799518861449,\n",
        "  132.6301350378188,\n",
        "  132.65086751119136,\n",
        "  132.69030875365752,\n",
        "  132.63977524797701,\n",
        "  132.66093652429774,\n",
        "  132.63333996708974,\n",
        "  132.63840125220116,\n",
        "  132.64483561464081,\n",
        "  132.65041477684986,\n",
        "  132.65858244144425,\n",
        "  132.66735292729402,\n",
        "  132.63160480904875,\n",
        "  132.65821172582599,\n",
        "  132.66260526998624,\n",
        "  132.64109474404793,\n",
        "  132.63926730711157,\n",
        "  132.63569403187876,\n",
        "  132.65684099168737,\n",
        "  132.66060684748658,\n",
        "  132.66644037679271,\n",
        "  132.64444783104099,\n",
        "  132.64267617698022,\n",
        "  132.63912610347239,\n",
        "  132.63488049176277,\n",
        "  132.66153410358385,\n",
        "  132.64154894452344,\n",
        "  132.64039178179428,\n",
        "  132.63777411589714,\n",
        "  132.63299168275495,\n",
        "  132.65607149032039,\n",
        "  132.65954637651842,\n",
        "  132.63993292376045,\n",
        "  132.63834622336179,\n",
        "  132.63516790512722,\n",
        "  132.63136553989889,\n",
        "  132.65520634688161,\n",
        "  132.65881672425795,\n",
        "  132.63848752917926,\n",
        "  132.63684453581823,\n",
        "  132.63355284261098,\n",
        "  132.65416629851745,\n",
        "  132.65804782713283,\n",
        "  132.63982560713276,\n",
        "  132.63843904354499,\n",
        "  132.6355884360643,\n",
        "  132.63217702885976,\n",
        "  132.65354668686112,\n",
        "  132.65757260277758,\n",
        "  132.63867811306341,\n",
        "  132.63724088261969])"
       ]
      }
     ],
     "prompt_number": 24
    },
    {
     "cell_type": "code",
     "collapsed": false,
     "input": [
      "predictions = util.sim_trainer(trainer)\n",
      "print(predictions.std().values.prod())\n",
      "print(predictions.describe())\n",
      "import pandas as pd\n",
      "print(pd.np.cov(predictions.T) / (predictions.std().values.prod()))"
     ],
     "language": "python",
     "metadata": {},
     "outputs": [
      {
       "output_type": "stream",
       "stream": "stdout",
       "text": [
        "356.155802239\n",
        "            Output       Target\n",
        "count  1461.000000  1461.000000\n",
        "mean     75.621724    79.261465\n",
        "std      21.782078    16.350864\n",
        "min     -10.821428    40.000000\n",
        "25%      65.945679    65.000000\n",
        "50%      80.715842    79.000000\n",
        "75%      90.908163    95.000000\n",
        "max     111.559353   111.000000\n",
        "[[ 1.33216675  0.69763131]\n",
        " [ 0.69763131  0.75065678]]\n"
       ]
      }
     ],
     "prompt_number": 46
    }
   ],
   "metadata": {}
  }
 ]
}